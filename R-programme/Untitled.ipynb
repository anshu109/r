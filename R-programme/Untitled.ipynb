{
 "cells": [
  {
   "cell_type": "markdown",
   "id": "e5c5fa1c",
   "metadata": {},
   "source": [
    "x <- 6"
   ]
  },
  {
   "cell_type": "code",
   "execution_count": null,
   "id": "4d9bc438",
   "metadata": {},
   "outputs": [],
   "source": [
    "x"
   ]
  },
  {
   "cell_type": "code",
   "execution_count": null,
   "id": "3597dd3b",
   "metadata": {},
   "outputs": [],
   "source": []
  }
 ],
 "metadata": {
  "kernelspec": {
   "display_name": "R",
   "language": "R",
   "name": "ir"
  }
 },
 "nbformat": 4,
 "nbformat_minor": 5
}
