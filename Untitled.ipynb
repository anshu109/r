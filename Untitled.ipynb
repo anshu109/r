{
 "cells": [
  {
   "cell_type": "markdown",
   "id": "e587a4f6",
   "metadata": {},
   "source": [
    "# Printing Data"
   ]
  },
  {
   "cell_type": "code",
   "execution_count": 3,
   "id": "eabfe4ea",
   "metadata": {},
   "outputs": [
    {
     "data": {
      "text/html": [
       "'Helloworld!'"
      ],
      "text/latex": [
       "'Helloworld!'"
      ],
      "text/markdown": [
       "'Helloworld!'"
      ],
      "text/plain": [
       "[1] \"Helloworld!\""
      ]
     },
     "metadata": {},
     "output_type": "display_data"
    }
   ],
   "source": [
    "\"Helloworld!\""
   ]
  },
  {
   "cell_type": "code",
   "execution_count": 4,
   "id": "a92b73f2",
   "metadata": {},
   "outputs": [
    {
     "name": "stdout",
     "output_type": "stream",
     "text": [
      "[1] \"Hello World!\"\n"
     ]
    }
   ],
   "source": [
    "print(\"Hello World!\")"
   ]
  },
  {
   "cell_type": "code",
   "execution_count": 5,
   "id": "4e0d3deb",
   "metadata": {},
   "outputs": [
    {
     "data": {
      "text/html": [
       "'Hello world!'"
      ],
      "text/latex": [
       "'Hello world!'"
      ],
      "text/markdown": [
       "'Hello world!'"
      ],
      "text/plain": [
       "[1] \"Hello world!\""
      ]
     },
     "metadata": {},
     "output_type": "display_data"
    }
   ],
   "source": [
    "x<- \"Hello world!\"\n",
    "x"
   ]
  },
  {
   "cell_type": "code",
   "execution_count": 6,
   "id": "5dada035",
   "metadata": {},
   "outputs": [
    {
     "name": "stdout",
     "output_type": "stream",
     "text": [
      "[1] \"Hello world!\"\n"
     ]
    }
   ],
   "source": [
    "print(x)"
   ]
  },
  {
   "cell_type": "code",
   "execution_count": null,
   "id": "7a4bdd40",
   "metadata": {},
   "outputs": [],
   "source": []
  }
 ],
 "metadata": {
  "kernelspec": {
   "display_name": "R",
   "language": "R",
   "name": "ir"
  },
  "language_info": {
   "codemirror_mode": "r",
   "file_extension": ".r",
   "mimetype": "text/x-r-source",
   "name": "R",
   "pygments_lexer": "r",
   "version": "3.6.1"
  }
 },
 "nbformat": 4,
 "nbformat_minor": 5
}
